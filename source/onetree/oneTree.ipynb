{
 "cells": [
  {
   "cell_type": "code",
   "execution_count": 1,
   "metadata": {},
   "outputs": [
    {
     "ename": "ImportError",
     "evalue": "cannot import name 'six' from 'sklearn.externals' (/home/naz/.local/lib/python3.8/site-packages/sklearn/externals/__init__.py)",
     "output_type": "error",
     "traceback": [
      "\u001b[0;31m---------------------------------------------------------------------------\u001b[0m",
      "\u001b[0;31mImportError\u001b[0m                               Traceback (most recent call last)",
      "\u001b[0;32m/tmp/ipykernel_24271/1399833295.py\u001b[0m in \u001b[0;36m<module>\u001b[0;34m\u001b[0m\n\u001b[1;32m     11\u001b[0m \u001b[0;32mimport\u001b[0m \u001b[0mrandom\u001b[0m \u001b[0;32mas\u001b[0m \u001b[0mrd\u001b[0m\u001b[0;34m\u001b[0m\u001b[0;34m\u001b[0m\u001b[0m\n\u001b[1;32m     12\u001b[0m \u001b[0;32mimport\u001b[0m \u001b[0mtsplib95\u001b[0m\u001b[0;34m\u001b[0m\u001b[0;34m\u001b[0m\u001b[0m\n\u001b[0;32m---> 13\u001b[0;31m \u001b[0;32mimport\u001b[0m \u001b[0mmlrose\u001b[0m\u001b[0;34m\u001b[0m\u001b[0;34m\u001b[0m\u001b[0m\n\u001b[0m",
      "\u001b[0;32m~/.local/lib/python3.8/site-packages/mlrose/__init__.py\u001b[0m in \u001b[0;36m<module>\u001b[0;34m\u001b[0m\n\u001b[1;32m     10\u001b[0m                       \u001b[0mKnapsack\u001b[0m\u001b[0;34m,\u001b[0m \u001b[0mTravellingSales\u001b[0m\u001b[0;34m,\u001b[0m \u001b[0mQueens\u001b[0m\u001b[0;34m,\u001b[0m \u001b[0mMaxKColor\u001b[0m\u001b[0;34m,\u001b[0m\u001b[0;34m\u001b[0m\u001b[0;34m\u001b[0m\u001b[0m\n\u001b[1;32m     11\u001b[0m                       CustomFitness)\n\u001b[0;32m---> 12\u001b[0;31m \u001b[0;32mfrom\u001b[0m \u001b[0;34m.\u001b[0m\u001b[0mneural\u001b[0m \u001b[0;32mimport\u001b[0m \u001b[0mNeuralNetwork\u001b[0m\u001b[0;34m,\u001b[0m \u001b[0mLinearRegression\u001b[0m\u001b[0;34m,\u001b[0m \u001b[0mLogisticRegression\u001b[0m\u001b[0;34m\u001b[0m\u001b[0;34m\u001b[0m\u001b[0m\n\u001b[0m\u001b[1;32m     13\u001b[0m \u001b[0;32mfrom\u001b[0m \u001b[0;34m.\u001b[0m\u001b[0mopt_probs\u001b[0m \u001b[0;32mimport\u001b[0m \u001b[0mDiscreteOpt\u001b[0m\u001b[0;34m,\u001b[0m \u001b[0mContinuousOpt\u001b[0m\u001b[0;34m,\u001b[0m \u001b[0mTSPOpt\u001b[0m\u001b[0;34m\u001b[0m\u001b[0;34m\u001b[0m\u001b[0m\n",
      "\u001b[0;32m~/.local/lib/python3.8/site-packages/mlrose/neural.py\u001b[0m in \u001b[0;36m<module>\u001b[0;34m\u001b[0m\n\u001b[1;32m     10\u001b[0m \u001b[0;32mfrom\u001b[0m \u001b[0msklearn\u001b[0m\u001b[0;34m.\u001b[0m\u001b[0mbase\u001b[0m \u001b[0;32mimport\u001b[0m \u001b[0mBaseEstimator\u001b[0m\u001b[0;34m,\u001b[0m \u001b[0mClassifierMixin\u001b[0m\u001b[0;34m,\u001b[0m \u001b[0mRegressorMixin\u001b[0m\u001b[0;34m\u001b[0m\u001b[0;34m\u001b[0m\u001b[0m\n\u001b[1;32m     11\u001b[0m \u001b[0;32mfrom\u001b[0m \u001b[0msklearn\u001b[0m\u001b[0;34m.\u001b[0m\u001b[0mmetrics\u001b[0m \u001b[0;32mimport\u001b[0m \u001b[0mmean_squared_error\u001b[0m\u001b[0;34m,\u001b[0m \u001b[0mlog_loss\u001b[0m\u001b[0;34m\u001b[0m\u001b[0;34m\u001b[0m\u001b[0m\n\u001b[0;32m---> 12\u001b[0;31m \u001b[0;32mfrom\u001b[0m \u001b[0msklearn\u001b[0m\u001b[0;34m.\u001b[0m\u001b[0mexternals\u001b[0m \u001b[0;32mimport\u001b[0m \u001b[0msix\u001b[0m\u001b[0;34m\u001b[0m\u001b[0;34m\u001b[0m\u001b[0m\n\u001b[0m\u001b[1;32m     13\u001b[0m \u001b[0;32mfrom\u001b[0m \u001b[0;34m.\u001b[0m\u001b[0mactivation\u001b[0m \u001b[0;32mimport\u001b[0m \u001b[0midentity\u001b[0m\u001b[0;34m,\u001b[0m \u001b[0mrelu\u001b[0m\u001b[0;34m,\u001b[0m \u001b[0msigmoid\u001b[0m\u001b[0;34m,\u001b[0m \u001b[0msoftmax\u001b[0m\u001b[0;34m,\u001b[0m \u001b[0mtanh\u001b[0m\u001b[0;34m\u001b[0m\u001b[0;34m\u001b[0m\u001b[0m\n\u001b[1;32m     14\u001b[0m \u001b[0;32mfrom\u001b[0m \u001b[0;34m.\u001b[0m\u001b[0malgorithms\u001b[0m \u001b[0;32mimport\u001b[0m \u001b[0mrandom_hill_climb\u001b[0m\u001b[0;34m,\u001b[0m \u001b[0msimulated_annealing\u001b[0m\u001b[0;34m,\u001b[0m \u001b[0mgenetic_alg\u001b[0m\u001b[0;34m\u001b[0m\u001b[0;34m\u001b[0m\u001b[0m\n",
      "\u001b[0;31mImportError\u001b[0m: cannot import name 'six' from 'sklearn.externals' (/home/naz/.local/lib/python3.8/site-packages/sklearn/externals/__init__.py)"
     ]
    }
   ],
   "source": [
    "# Biblioteca para trabalhar com grafos\n",
    "import networkx as nx\n",
    "\n",
    "# Biblioteca para plotar os grafos\n",
    "import matplotlib.pyplot as plt\n",
    "\n",
    "from scipy.spatial.distance import pdist\n",
    "from scipy.spatial.distance import squareform\n",
    "\n",
    "import numpy as np\n",
    "import random as rd\n",
    "import tsplib95"
   ]
  },
  {
   "cell_type": "code",
   "execution_count": 2,
   "metadata": {},
   "outputs": [],
   "source": [
    "def NearestNeighbor(mat):\n",
    "    n = len(mat[0])\n",
    "    used = np.zeros(n, dtype=bool)\n",
    "    used[0] = True\n",
    "    cost = 0\n",
    "    last = 0\n",
    "    path = [0]\n",
    "    for i in range(1, n):\n",
    "        minarg = -1\n",
    "        min = np.inf\n",
    "        for j in range(1, n):\n",
    "            if (not used[j] and mat[last][j] < min):\n",
    "                min = mat[last][j]\n",
    "                minarg = j\n",
    "        if minarg >= 0:\n",
    "            cost += min\n",
    "            last = minarg\n",
    "            path.append(last)\n",
    "            used[last] = True\n",
    "\n",
    "    cost += mat[last][0]\n",
    "    return cost, path"
   ]
  },
  {
   "cell_type": "code",
   "execution_count": 3,
   "metadata": {},
   "outputs": [],
   "source": [
    "def get_distance_matrix(problem):\n",
    "    n = problem.dimension\n",
    "    plus = 0\n",
    "    if next(problem.get_nodes()) == 1:\n",
    "        plus = 1\n",
    "\n",
    "    distance_matrix = np.zeros((n, n))\n",
    "    for i in range(n):\n",
    "        for j in range(i + plus, n):\n",
    "            distance_matrix[i, j] = problem.get_weight(i + plus, j + plus)\n",
    "    \n",
    "    return distance_matrix"
   ]
  },
  {
   "cell_type": "code",
   "execution_count": 4,
   "metadata": {},
   "outputs": [],
   "source": [
    "def randomGraph(n, W=1000, H=1000):\n",
    "    coordinates = []\n",
    "    for i in range(n):\n",
    "        coordinates.append((rd.randint(0, W), rd.randint(0, H)))\n",
    "\n",
    "    dist_matrix = squareform(pdist(coordinates))\n",
    "    G = nx.complete_graph(n)\n",
    "    for i in range(n):\n",
    "        G.nodes[i][\"pos\"] = coordinates[i]\n",
    "        G.nodes[i][\"label\"] = i\n",
    "    return G, dist_matrix"
   ]
  },
  {
   "cell_type": "code",
   "execution_count": 5,
   "metadata": {},
   "outputs": [],
   "source": [
    "def testGraph(problem):\n",
    "    coordinates = list(problem.node_coords.values())\n",
    "    dist_matrix = squareform(pdist(coordinates))\n",
    "    #dist_matrix = get_distance_matrix(problem)\n",
    "    G = nx.complete_graph(problem.dimension)\n",
    "    \n",
    "    for i in range(problem.dimension):\n",
    "        G.nodes[i][\"pos\"] = coordinates[i]\n",
    "        G.nodes[i][\"label\"] = i\n",
    "    return G, dist_matrix"
   ]
  },
  {
   "cell_type": "code",
   "execution_count": 6,
   "metadata": {},
   "outputs": [],
   "source": [
    "def oneTree(oneT, Gm1, mat, pi):\n",
    "    n = Gm1.number_of_nodes()\n",
    "    for i in range(n):\n",
    "        for j in range(i):\n",
    "            Gm1.edges[j, i]['w'] = Gm1.edges[i, j]['w'] = mat[i][j] + pi[i] + pi[j]\n",
    "\n",
    "    # gerando a árvore com o restando dos nós.\n",
    "    spaningTree = nx.minimum_spanning_tree(Gm1, algorithm=\"kruskal\", weight='w')\n",
    "    # nx.draw_networkx(spaningTree, spaningTree.nodes.data('pos'), with_labels=True, node_size=200, font_size=8)\n",
    "    # localizar as menores arestas que conectam o nó removido na matriz de distâncias\n",
    "    vet = np.zeros(n)\n",
    "    for i in range(n):\n",
    "        vet[i] = mat[n][i] + pi[i] + pi[n]\n",
    "    a, b = np.argpartition(vet, 2)[:2]\n",
    "\n",
    "    # inserindo o nó removido\n",
    "    oneT.clear_edges()\n",
    "    oneT.add_edges_from(spaningTree.edges)\n",
    "    oneT.add_edge(n, a)\n",
    "    oneT.add_edge(n, b)\n",
    "    return"
   ]
  },
  {
   "cell_type": "code",
   "execution_count": 7,
   "metadata": {},
   "outputs": [],
   "source": [
    "def w_funcPi(graph, mat, pi):\n",
    "    cost = 0\n",
    "    for i, j in graph.edges:\n",
    "        cost += mat[i][j] + pi[i] + pi[j]\n",
    "    return cost"
   ]
  },
  {
   "cell_type": "code",
   "execution_count": 8,
   "metadata": {},
   "outputs": [],
   "source": [
    "def w_func(graph, mat):\n",
    "    cost = 0\n",
    "    for i, j in graph.edges:\n",
    "        cost += mat[i][j]\n",
    "    return cost"
   ]
  },
  {
   "cell_type": "code",
   "execution_count": 9,
   "metadata": {},
   "outputs": [],
   "source": [
    "def degree(graph):\n",
    "    n = graph.number_of_nodes()\n",
    "    d = np.zeros(n)\n",
    "    deg = graph.degree()\n",
    "    for i in range(n):\n",
    "        d[i] = deg[i]\n",
    "    return d"
   ]
  },
  {
   "cell_type": "code",
   "execution_count": 10,
   "metadata": {},
   "outputs": [],
   "source": [
    "def all_equals(vet, x):\n",
    "    for i in vet:\n",
    "        if x != i:\n",
    "            return False\n",
    "    return True"
   ]
  },
  {
   "cell_type": "code",
   "execution_count": 11,
   "metadata": {},
   "outputs": [],
   "source": [
    "def oneTree2(oneT, G, mat, pi):\n",
    "    n = G.number_of_nodes()\n",
    "    for i in range(n):\n",
    "        for j in range(i):\n",
    "            G.edges[j, i]['w'] = G.edges[i, j]['w'] = mat[i][j] + pi[i] + pi[j]\n",
    "\n",
    "    # gerando a árvore com o restando dos nós.\n",
    "    spaningTree = nx.minimum_spanning_tree(G, algorithm=\"kruskal\", weight='w')\n",
    "    # nx.draw_networkx(spaningTree, spaningTree.nodes.data('pos'), with_labels=True, node_size=200, font_size=8)\n",
    "    oneT.clear_edges()\n",
    "    oneT.add_edges_from(spaningTree.edges)\n",
    "    min = np.inf\n",
    "    argmin = -1\n",
    "    for i in range(n):\n",
    "        for j in range(i):\n",
    "            if not (oneT.has_edge(i, j) or oneT.has_edge(j, i)):\n",
    "                if min > G.edges[i, j]['w']:\n",
    "                    min = G.edges[i, j]['w']\n",
    "                    argmin = (i, j)\n",
    "\n",
    "    oneT.add_edge(*argmin)\n",
    "    return"
   ]
  },
  {
   "cell_type": "code",
   "execution_count": 12,
   "metadata": {
    "tags": []
   },
   "outputs": [
    {
     "name": "stdout",
     "output_type": "stream",
     "text": [
      "52.210910489244405 2.8284271247461903 1.248801231855988\n",
      "52.73930710124639 5.291502622129181 1.248801231855988\n",
      "54.575690542376485 4.69041575982343 0.7756529390409863\n",
      "56.38678964684348 5.830951894845301 0.7756529390409863\n",
      "60.70520850298864 4.47213595499958 0.7756529390409863\n",
      "60.93079812201896 4.47213595499958 0.7756529390409863\n",
      "62.577811007157464 4.47213595499958 0.7756529390409863\n",
      "64.41603747940805 4.242640687119285 0.7756529390409863\n",
      "66.96495031511195 3.4641016151377544 0.7756529390409863\n",
      "68.02853859140673 2.8284271247461903 0.48177201182669954\n",
      "68.52487687886018 3.1622776601683795 0.48177201182669954\n",
      "68.87747297322854 3.4641016151377544 0.48177201182669954\n",
      "69.63486953461786 3.4641016151377544 0.48177201182669954\n",
      "70.33735439789884 2.449489742783178 0.48177201182669954\n",
      "70.69792154018826 2.8284271247461903 0.48177201182669954\n",
      "71.04504193588498 4.0 0.2992372744265214\n",
      "71.89999128797581 3.4641016151377544 0.2992372744265214\n",
      "71.98981113476843 2.0 0.18586166113448535\n",
      "72.05326943394631 3.1622776601683795 0.18586166113448535\n",
      "72.52782614283547 2.449489742783178 0.18586166113448535\n",
      "72.66751049241877 2.0 0.18586166113448535\n",
      "72.71862181121715 2.449489742783178 0.11544202554936978\n",
      "72.95355462394714 2.0 0.11544202554936978\n",
      "73.0361924005136 2.0 0.11544202554936978\n",
      "73.1356192910424 1.4142135623730951 0.11544202554936978\n",
      "73.13666707704748 2.0 0.027662174090210975\n",
      "73.19915159146451 2.449489742783178 0.027662174090210975\n",
      "73.22159014189731 1.4142135623730951 0.027662174090210975\n",
      "73.2261569756008 2.449489742783178 0.010671723347946055\n",
      "73.23689304224911 2.0 0.010671723347946055\n",
      "73.25447593964495 1.4142135623730951 0.010671723347946055\n",
      "73.25596076767863 1.4142135623730951 0.00662839959499755\n",
      "73.25823648894502 2.449489742783178 0.00662839959499755\n",
      "73.2600412700376 1.4142135623730951 0.0025571542745255003\n",
      "73.26110433923995 2.0 0.0025571542745255003\n",
      "73.26477262367212 1.4142135623730951 0.0025571542745255003\n"
     ]
    },
    {
     "data": {
      "image/png": "[encoded data removed]",
      "text/plain": [
       "<Figure size 432x288 with 1 Axes>"
      ]
     },
     "metadata": {},
     "output_type": "display_data"
    }
   ],
   "source": [
    "#problem = tsplib95.load(f'../../instances/tsp_data/burma14.tsp')\n",
    "problem = tsplib95.load(f'../../instances/tsp_data/ulysses16.tsp')\n",
    "#problem = tsplib95.load(f'../../instances/tsp_data/eil51.tsp')\n",
    "#problem = tsplib95.load(f'../../instances/tsp_data/tsp225.tsp')\n",
    "#rd.seed(7)\n",
    "#G, mat = randomGraph(14)\n",
    "G, mat = testGraph(problem)\n",
    "\n",
    "oneT = nx.Graph.copy(G)\n",
    "\n",
    "Gm1 = nx.Graph.copy(G)\n",
    "# removendo o nó do Grafo G\n",
    "Gm1.remove_node(G.number_of_nodes() - 1)\n",
    "\n",
    "pi = np.zeros(G.number_of_nodes())\n",
    "\n",
    "# pi = np.random.randint(-5,5,G.number_of_nodes())\n",
    "# pi[1] = 450\n",
    "# pi[3] = 100\n",
    "# pi[0] = 50\n",
    "\n",
    "\n",
    "##\n",
    "ub, path = NearestNeighbor(mat)\n",
    "\n",
    "# x = 0\n",
    "# for i in range(1, len(path)):\n",
    "#     x += mat[path[i - 1]][path[i]]\n",
    "# x += mat[0][path[-1]]\n",
    "\n",
    "\n",
    "l = 2\n",
    "bestPi = np.array(pi)\n",
    "oneTree(oneT, Gm1, mat, pi)\n",
    "w = w_funcPi(oneT, mat, pi)\n",
    "maxW = w\n",
    "minG = np.inf\n",
    "t = -1\n",
    "while (True):\n",
    "    d = degree(oneT)\n",
    "    if all_equals(d, 2):\n",
    "        break\n",
    "\n",
    "    # subgradiente\n",
    "    g = d - 2\n",
    "    # passo\n",
    "    if t == -1:\n",
    "        tmax = l * ((ub+2*sum(pi)) - w) / (np.linalg.norm(g) ** 2)\n",
    "        t = tmax\n",
    "    while t > 1e-6:\n",
    "        pi = pi + t * g\n",
    "        # oneTree2(oneT, G, mat, pi)\n",
    "        oneTree(oneT, Gm1, mat, pi)\n",
    "        w = w_funcPi(oneT, mat, pi)\n",
    "        if w > maxW + .001 :\n",
    "            minG = np.linalg.norm(g)\n",
    "            bestPi = np.array(pi)\n",
    "            maxW = w\n",
    "            break\n",
    "        else:\n",
    "            t /= 1.61\n",
    "            pi = np.array(bestPi)\n",
    "            w = maxW\n",
    "    if t <= 1e-6:\n",
    "        break\n",
    "\n",
    "    print(w, np.linalg.norm(g), t)\n",
    "\n",
    "\n",
    "nx.draw_networkx(oneT, oneT.nodes.data('pos'), with_labels=True, node_size=200, font_size=8)\n",
    "plt.show()\n",
    "\n",
    "#compareSolutions(oneT, oficialSolucion)"
   ]
  },
  {
   "cell_type": "code",
   "execution_count": 13,
   "metadata": {},
   "outputs": [],
   "source": [
    "#compareSolutions\n",
    "#oficialSolution = tsplib95.load(f'../../instances/tsp_opt/eil51.opt.tour')\n",
    "oficialSolution = tsplib95.load(f'../../instances/tsp_opt/ulysses16.opt.tour')\n",
    "lista = list(oneT.edges)\n",
    "arr = list(np.array(oficialSolution.tours[0]) - 1);\n",
    "\n",
    "oficialSolutionEdges = [(arr[-1], arr[0])]\n",
    "for i in range(len(arr) - 1):\n",
    "    j = i + 1\n",
    "    oficialSolutionEdges.append((arr[i], arr[j]))"
   ]
  },
  {
   "cell_type": "code",
   "execution_count": 14,
   "metadata": {},
   "outputs": [
    {
     "name": "stdout",
     "output_type": "stream",
     "text": [
      "[(0, 7), (0, 11), (0, 15), (1, 2), (1, 3), (2, 15), (3, 7), (4, 5), (5, 6), (5, 14), (6, 9), (8, 9), (8, 10), (11, 12), (12, 13), (13, 14)]\n",
      "______________________________________________________________________________\n",
      "[(0, 7), (0, 13), (12, 13), (11, 12), (6, 11), (5, 6), (5, 14), (4, 14), (4, 10), (8, 10), (8, 9), (9, 15), (2, 15), (1, 2), (1, 3), (3, 7)]\n",
      "______________________________________________________________________________\n",
      "{(0, 7), (1, 2), (5, 14), (3, 7), (12, 13), (8, 10), (11, 12), (8, 9), (5, 6), (2, 15), (1, 3)}\n",
      "problemLength: 16\n",
      "intersectionEdgesLength: 11\n",
      "percentEdgesInOptimum: 68.75\n",
      "OficialSolution: 74.10873595815309\n",
      "OneTreeSolution: 73.26477262367212\n",
      "Gap of Function: 0.8439633344809749\n"
     ]
    }
   ],
   "source": [
    "print(lista)\n",
    "print('______________________________________________________________________________')\n",
    "oficialSolutionEdges = [(i,j) if i<j else (j,i) for i,j in oficialSolutionEdges];#list comprehension\n",
    "print(oficialSolutionEdges)\n",
    "print('______________________________________________________________________________')\n",
    "intersectionEdges = set(lista) & set(oficialSolutionEdges);\n",
    "print(intersectionEdges);\n",
    "print('problemLength:' , len(lista))\n",
    "print('intersectionEdgesLength:' , len(intersectionEdges))\n",
    "print('percentEdgesInOptimum:', ((len(intersectionEdges)*100)/len(oficialSolutionEdges)))\n",
    "w_oficial = 0\n",
    "for i, j in oficialSolutionEdges:\n",
    "    w_oficial += mat[i][j]\n",
    "print(\"OficialSolution:\", w_oficial)\n",
    "print(\"OneTreeSolution:\", w)\n",
    "print('Gap of Function:', w_oficial - w)"
   ]
  },
  {
   "cell_type": "code",
   "execution_count": 15,
   "metadata": {},
   "outputs": [
    {
     "name": "stdout",
     "output_type": "stream",
     "text": [
      "[(0, 7), (0, 11), (0, 15), (1, 2), (1, 3), (2, 15), (3, 7), (4, 5), (5, 6), (5, 14), (6, 9), (8, 9), (8, 10), (11, 12), (12, 13), (13, 14)]\n",
      "[(7, 0), (0, 13), (13, 12), (12, 11), (11, 6), (6, 5), (5, 14), (14, 4), (4, 10), (10, 8), (8, 9), (9, 15), (15, 2), (2, 1), (1, 3), (3, 7)]\n",
      "[(0, 7), (0, 13), (12, 13), (11, 12), (6, 11), (5, 6), (5, 14), (4, 14), (4, 10), (8, 10), (8, 9), (9, 15), (2, 15), (1, 2), (1, 3), (3, 7)]\n",
      "{(0, 7), (1, 2), (5, 14), (3, 7), (12, 13), (8, 10), (11, 12), (8, 9), (5, 6), (2, 15), (1, 3)}\n"
     ]
    }
   ],
   "source": [
    "a = [(0, 7), (0, 11), (0, 15), (1, 2), (1, 3), (2, 15), (3, 7), (4, 5), (5, 6), (5, 14), (6, 9), (8, 9), (8, 10), (11, 12), (12, 13), (13, 14)];\n",
    "b = [(7, 0), (0, 13), (13, 12), (12, 11), (11, 6), (6, 5), (5, 14), (14, 4), (4, 10), (10, 8), (8, 9), (9, 15), (15, 2), (2, 1), (1, 3), (3, 7)];\n",
    "c = [(i,j) if i<j else (j,i) for i,j in b];#list comprehension\n",
    "print(a);\n",
    "print(b);\n",
    "print(c);\n",
    "print(set(a) & set(c));\n",
    "#a = np.array(a);\n",
    "#print(set(a));\n",
    "#b = np.array([(7, 0), (0, 13), (13, 12), (12, 11), (11, 6), (6, 5), (5, 14), (14, 4), (4, 10), (10, 8), (8, 9), (9, 15), (15, 2), (2, 1), (1, 3), (3, 7)]);\n",
    "#print(set(a) & set(b));"
   ]
  },
  {
   "cell_type": "code",
   "execution_count": null,
   "metadata": {},
   "outputs": [],
   "source": []
  }
 ],
 "metadata": {
  "interpreter": {
   "hash": "31f2aee4e71d21fbe5cf8b01ff0e069b9275f58929596ceb00d14d90e3e16cd6"
  },
  "kernelspec": {
   "display_name": "Python 3.8.10 64-bit",
   "name": "python3"
  },
  "language_info": {
   "codemirror_mode": {
    "name": "ipython",
    "version": 3
   },
   "file_extension": ".py",
   "mimetype": "text/x-python",
   "name": "python",
   "nbconvert_exporter": "python",
   "pygments_lexer": "ipython3",
   "version": "3.8.10"
  },
  "orig_nbformat": 4
 },
 "nbformat": 4,
 "nbformat_minor": 2
}
