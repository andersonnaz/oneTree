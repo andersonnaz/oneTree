{
 "cells": [
  {
   "cell_type": "code",
   "execution_count": 3,
   "metadata": {},
   "outputs": [],
   "source": [
    "# Biblioteca para trabalhar com grafos\n",
    "import networkx as nx\n",
    "\n",
    "# Biblioteca para plotar os grafos\n",
    "import matplotlib.pyplot as plt\n",
    "\n",
    "from scipy.spatial.distance import pdist\n",
    "from scipy.spatial.distance import squareform\n",
    "\n",
    "import numpy as np\n",
    "import random as rd\n",
    "import tsplib95 as tsplib\n",
    "import pandas as pd\n",
    "import os"
   ]
  },
  {
   "cell_type": "code",
   "execution_count": 8,
   "metadata": {},
   "outputs": [
    {
     "data": {
      "text/plain": [
       "inf"
      ]
     },
     "execution_count": 8,
     "metadata": {},
     "output_type": "execute_result"
    }
   ],
   "source": [
    "matb = [[1,2,3],\n",
    "        [3,2,1]]\n",
    "n = len(matb)\n",
    "matb = np.inf\n",
    "matb"
   ]
  },
  {
   "cell_type": "code",
   "execution_count": 10,
   "metadata": {},
   "outputs": [
    {
     "data": {
      "text/plain": [
       "1"
      ]
     },
     "execution_count": 10,
     "metadata": {},
     "output_type": "execute_result"
    }
   ],
   "source": [
    "a, b = func()\n",
    "a"
   ]
  },
  {
   "cell_type": "code",
   "execution_count": 43,
   "metadata": {},
   "outputs": [
    {
     "name": "stdout",
     "output_type": "stream",
     "text": [
      "[0, 48, 31, 44, 18, 40, 7, 8, 9, 42, 32, 50, 10, 51, 13, 12, 46, 25, 26, 27, 11, 24, 3, 5, 14, 4, 23, 47, 37, 36, 39, 38, 35, 34, 33, 43, 45, 15, 28, 49, 19, 22, 29, 1, 6, 41, 20, 16, 2, 17, 30, 21]\n",
      "(0, 48)\n",
      "(48, 31)\n",
      "(31, 44)\n",
      "(44, 18)\n",
      "(18, 40)\n",
      "(40, 7)\n",
      "(7, 8)\n",
      "(8, 9)\n",
      "(9, 42)\n",
      "(42, 32)\n",
      "(32, 50)\n",
      "(50, 10)\n",
      "(10, 51)\n",
      "(51, 13)\n",
      "(13, 12)\n",
      "(12, 46)\n",
      "(46, 25)\n",
      "(25, 26)\n",
      "(26, 27)\n",
      "(27, 11)\n",
      "(11, 24)\n",
      "(24, 3)\n",
      "(3, 5)\n",
      "(5, 14)\n",
      "(14, 4)\n",
      "(4, 23)\n",
      "(23, 47)\n",
      "(47, 37)\n",
      "(37, 36)\n",
      "(36, 39)\n",
      "(39, 38)\n",
      "(38, 35)\n",
      "(35, 34)\n",
      "(34, 33)\n",
      "(33, 43)\n",
      "(43, 45)\n",
      "(45, 15)\n",
      "(15, 28)\n",
      "(28, 49)\n",
      "(49, 19)\n",
      "(19, 22)\n",
      "(22, 29)\n",
      "(29, 1)\n",
      "(1, 6)\n",
      "(6, 41)\n",
      "(41, 20)\n",
      "(20, 16)\n",
      "(16, 2)\n",
      "(2, 17)\n",
      "(17, 30)\n",
      "(30, 21)\n",
      "{(9, 42), (14, 4), (26, 27), (38, 35), (0, 48), (8, 9), (51, 13), (22, 29), (31, 44), (1, 6), (17, 30), (47, 37), (30, 21), (37, 36), (12, 46), (2, 17), (21, 0), (40, 7), (29, 1), (42, 32), (49, 19), (20, 16), (10, 51), (43, 45), (45, 15), (18, 40), (39, 38), (6, 41), (34, 33), (4, 23), (41, 20), (36, 39), (46, 25), (15, 28), (35, 34), (3, 5), (48, 31), (33, 43), (32, 50), (27, 11), (50, 10), (5, 14), (24, 3), (44, 18), (16, 2), (23, 47), (13, 12), (7, 8), (19, 22), (11, 24), (25, 26), (28, 49)}\n"
     ]
    }
   ],
   "source": [
    "tour = tsplib.load('/home/naz/Projetos/oneTree/instances/tsp_opt/berlin52.opt.tour')\n",
    "\n",
    "lista = list(np.array(tour.tours[0]) - 1)\n",
    "edges = set([(lista[-1], lista[0])])\n",
    "print(lista)\n",
    "for i in range(len(lista) - 1):\n",
    "    j = i + 1\n",
    "    edges.add((lista[i], lista[j]))\n",
    "    print((lista[i], lista[j]))\n",
    "print(edges)"
   ]
  },
  {
   "cell_type": "code",
   "execution_count": 30,
   "metadata": {},
   "outputs": [
    {
     "data": {
      "text/plain": [
       "[1,\n",
       " 49,\n",
       " 32,\n",
       " 45,\n",
       " 19,\n",
       " 41,\n",
       " 8,\n",
       " 9,\n",
       " 10,\n",
       " 43,\n",
       " 33,\n",
       " 51,\n",
       " 11,\n",
       " 52,\n",
       " 14,\n",
       " 13,\n",
       " 47,\n",
       " 26,\n",
       " 27,\n",
       " 28,\n",
       " 12,\n",
       " 25,\n",
       " 4,\n",
       " 6,\n",
       " 15,\n",
       " 5,\n",
       " 24,\n",
       " 48,\n",
       " 38,\n",
       " 37,\n",
       " 40,\n",
       " 39,\n",
       " 36,\n",
       " 35,\n",
       " 34,\n",
       " 44,\n",
       " 46,\n",
       " 16,\n",
       " 29,\n",
       " 50,\n",
       " 20,\n",
       " 23,\n",
       " 30,\n",
       " 2,\n",
       " 7,\n",
       " 42,\n",
       " 21,\n",
       " 17,\n",
       " 3,\n",
       " 18,\n",
       " 31,\n",
       " 22]"
      ]
     },
     "execution_count": 30,
     "metadata": {},
     "output_type": "execute_result"
    }
   ],
   "source": [
    "tour = tsplib.load('/home/naz/Projetos/oneTree/instances/tsp_opt/berlin52.opt.tour')\n",
    "tour.tours[0]"
   ]
  },
  {
   "cell_type": "code",
   "execution_count": null,
   "metadata": {},
   "outputs": [],
   "source": [
    "def NearestNeighbor(mat):\n",
    "    n = len(mat[0])\n",
    "    used = np.zeros(n, dtype=bool)\n",
    "    used[0] = True\n",
    "    cost = 0\n",
    "    last = 0\n",
    "    path = [0]\n",
    "    for i in range(1, n):\n",
    "        minarg = -1\n",
    "        min = np.inf\n",
    "        for j in range(1, n):\n",
    "            if (not used[j] and mat[last][j] < min):\n",
    "                min = mat[last][j]\n",
    "                minarg = j\n",
    "        if minarg >= 0:\n",
    "            cost += min\n",
    "            last = minarg\n",
    "            path.append(last)\n",
    "            used[last] = True\n",
    "\n",
    "    cost += mat[last][0]\n",
    "    return cost, path"
   ]
  },
  {
   "cell_type": "code",
   "execution_count": null,
   "metadata": {},
   "outputs": [],
   "source": [
    "def get_distance_matrix(problem):\n",
    "    n = problem.dimension\n",
    "    plus = 0\n",
    "    if next(problem.get_nodes()) == 1:\n",
    "        plus = 1\n",
    "\n",
    "    distance_matrix = np.zeros((n, n))\n",
    "    for i in range(n):\n",
    "        for j in range(i + plus, n):\n",
    "            distance_matrix[i, j] = problem.get_weight(i + plus, j + plus)\n",
    "    \n",
    "    return distance_matrix"
   ]
  },
  {
   "cell_type": "code",
   "execution_count": null,
   "metadata": {},
   "outputs": [],
   "source": [
    "def randomGraph(n, W=1000, H=1000):\n",
    "    coordinates = []\n",
    "    for i in range(n):\n",
    "        coordinates.append((rd.randint(0, W), rd.randint(0, H)))\n",
    "\n",
    "    dist_matrix = squareform(pdist(coordinates))\n",
    "    G = nx.complete_graph(n)\n",
    "    for i in range(n):\n",
    "        G.nodes[i][\"pos\"] = coordinates[i]\n",
    "        G.nodes[i][\"label\"] = i\n",
    "    return G, dist_matrix"
   ]
  },
  {
   "cell_type": "code",
   "execution_count": null,
   "metadata": {},
   "outputs": [],
   "source": [
    "def testGraph(problem):\n",
    "    coordinates = list(problem.node_coords.values())\n",
    "    dist_matrix = squareform(pdist(coordinates))\n",
    "    #dist_matrix = get_distance_matrix(problem)\n",
    "    G = nx.complete_graph(problem.dimension)\n",
    "    \n",
    "    for i in range(problem.dimension):\n",
    "        G.nodes[i][\"pos\"] = coordinates[i]\n",
    "        G.nodes[i][\"label\"] = i\n",
    "    return G, dist_matrix"
   ]
  },
  {
   "cell_type": "code",
   "execution_count": null,
   "metadata": {},
   "outputs": [],
   "source": [
    "def oneTree(oneT, Gm1, mat, pi):\n",
    "    n = Gm1.number_of_nodes()\n",
    "    for i in range(n):\n",
    "        for j in range(i):\n",
    "            Gm1.edges[j, i]['w'] = Gm1.edges[i, j]['w'] = mat[i][j] + pi[i] + pi[j]\n",
    "\n",
    "    # gerando a árvore com o restando dos nós.\n",
    "    spaningTree = nx.minimum_spanning_tree(Gm1, algorithm=\"kruskal\", weight='w')\n",
    "    # nx.draw_networkx(spaningTree, spaningTree.nodes.data('pos'), with_labels=True, node_size=200, font_size=8)\n",
    "    # localizar as menores arestas que conectam o nó removido na matriz de distâncias\n",
    "    vet = np.zeros(n)\n",
    "    for i in range(n):\n",
    "        vet[i] = mat[n][i] + pi[i] + pi[n]\n",
    "    a, b = np.argpartition(vet, 2)[:2]\n",
    "\n",
    "    # inserindo o nó removido\n",
    "    oneT.clear_edges()\n",
    "    oneT.add_edges_from(spaningTree.edges)\n",
    "    oneT.add_edge(n, a)\n",
    "    oneT.add_edge(n, b)\n",
    "    return"
   ]
  },
  {
   "cell_type": "code",
   "execution_count": null,
   "metadata": {},
   "outputs": [],
   "source": [
    "def w_funcPi(graph, mat, pi):\n",
    "    cost = 0\n",
    "    for i, j in graph.edges:\n",
    "        cost += mat[i][j] + pi[i] + pi[j]\n",
    "    return cost"
   ]
  },
  {
   "cell_type": "code",
   "execution_count": null,
   "metadata": {},
   "outputs": [],
   "source": [
    "def w_func(graph, mat):\n",
    "    cost = 0\n",
    "    for i, j in graph.edges:\n",
    "        cost += mat[i][j]\n",
    "    return cost"
   ]
  },
  {
   "cell_type": "code",
   "execution_count": null,
   "metadata": {},
   "outputs": [],
   "source": [
    "def degree(graph):\n",
    "    n = graph.number_of_nodes()\n",
    "    d = np.zeros(n)\n",
    "    deg = graph.degree()\n",
    "    for i in range(n):\n",
    "        d[i] = deg[i]\n",
    "    return d"
   ]
  },
  {
   "cell_type": "code",
   "execution_count": null,
   "metadata": {},
   "outputs": [],
   "source": [
    "def all_equals(vet, x):\n",
    "    for i in vet:\n",
    "        if x != i:\n",
    "            return False\n",
    "    return True"
   ]
  },
  {
   "cell_type": "code",
   "execution_count": null,
   "metadata": {},
   "outputs": [],
   "source": [
    "def oneTree2(oneT, G, mat, pi):\n",
    "    n = G.number_of_nodes()\n",
    "    for i in range(n):\n",
    "        for j in range(i):\n",
    "            G.edges[j, i]['w'] = G.edges[i, j]['w'] = mat[i][j] + pi[i] + pi[j]\n",
    "\n",
    "    # gerando a árvore com o restando dos nós.\n",
    "    spaningTree = nx.minimum_spanning_tree(G, algorithm=\"kruskal\", weight='w')\n",
    "    # nx.draw_networkx(spaningTree, spaningTree.nodes.data('pos'), with_labels=True, node_size=200, font_size=8)\n",
    "    oneT.clear_edges()\n",
    "    oneT.add_edges_from(spaningTree.edges)\n",
    "    min = np.inf\n",
    "    argmin = -1\n",
    "    for i in range(n):\n",
    "        for j in range(i):\n",
    "            if not (oneT.has_edge(i, j) or oneT.has_edge(j, i)):\n",
    "                if min > G.edges[i, j]['w']:\n",
    "                    min = G.edges[i, j]['w']\n",
    "                    argmin = (i, j)\n",
    "\n",
    "    oneT.add_edge(*argmin)\n",
    "    return"
   ]
  },
  {
   "cell_type": "code",
   "execution_count": null,
   "metadata": {
    "tags": []
   },
   "outputs": [],
   "source": [
    "#problem = tsplib95.load(f'../../instances/tsp_data/burma14.tsp')\n",
    "problem = tsplib95.load(f'../../instances/tsp_data/ulysses16.tsp')\n",
    "#problem = tsplib95.load(f'../../instances/tsp_data/eil51.tsp')\n",
    "#problem = tsplib95.load(f'../../instances/tsp_data/tsp225.tsp')\n",
    "#rd.seed(7)\n",
    "#G, mat = randomGraph(14)\n",
    "G, mat = testGraph(problem)\n",
    "\n",
    "oneT = nx.Graph.copy(G)\n",
    "\n",
    "Gm1 = nx.Graph.copy(G)\n",
    "# removendo o nó do Grafo G\n",
    "Gm1.remove_node(G.number_of_nodes() - 1)\n",
    "\n",
    "pi = np.zeros(G.number_of_nodes())\n",
    "\n",
    "# pi = np.random.randint(-5,5,G.number_of_nodes())\n",
    "# pi[1] = 450\n",
    "# pi[3] = 100\n",
    "# pi[0] = 50\n",
    "\n",
    "\n",
    "##\n",
    "ub, path = NearestNeighbor(mat)\n",
    "\n",
    "# x = 0\n",
    "# for i in range(1, len(path)):\n",
    "#     x += mat[path[i - 1]][path[i]]\n",
    "# x += mat[0][path[-1]]\n",
    "\n",
    "\n",
    "l = 2\n",
    "bestPi = np.array(pi)\n",
    "oneTree(oneT, Gm1, mat, pi)\n",
    "w = w_funcPi(oneT, mat, pi)\n",
    "maxW = w\n",
    "minG = np.inf\n",
    "t = -1\n",
    "while (True):\n",
    "    d = degree(oneT)\n",
    "    if all_equals(d, 2):\n",
    "        break\n",
    "\n",
    "    # subgradiente\n",
    "    g = d - 2\n",
    "    # passo\n",
    "    if t == -1:\n",
    "        tmax = l * ((ub+2*sum(pi)) - w) / (np.linalg.norm(g) ** 2)\n",
    "        t = tmax\n",
    "    while t > 1e-6:\n",
    "        pi = pi + t * g\n",
    "        # oneTree2(oneT, G, mat, pi)\n",
    "        oneTree(oneT, Gm1, mat, pi)\n",
    "        w = w_funcPi(oneT, mat, pi)\n",
    "        if w > maxW + .001 :\n",
    "            minG = np.linalg.norm(g)\n",
    "            bestPi = np.array(pi)\n",
    "            maxW = w\n",
    "            break\n",
    "        else:\n",
    "            t /= 1.61\n",
    "            pi = np.array(bestPi)\n",
    "            w = maxW\n",
    "    if t <= 1e-6:\n",
    "        break\n",
    "\n",
    "    print(w, np.linalg.norm(g), t)\n",
    "\n",
    "\n",
    "nx.draw_networkx(oneT, oneT.nodes.data('pos'), with_labels=True, node_size=200, font_size=8)\n",
    "plt.show()\n",
    "\n",
    "#compareSolutions(oneT, oficialSolucion)"
   ]
  },
  {
   "cell_type": "code",
   "execution_count": null,
   "metadata": {},
   "outputs": [],
   "source": [
    "#compareSolutions\n",
    "#oficialSolution = tsplib95.load(f'../../instances/tsp_opt/eil51.opt.tour')\n",
    "oficialSolution = tsplib95.load(f'../../instances/tsp_opt/ulysses16.opt.tour')\n",
    "lista = list(oneT.edges)\n",
    "arr = list(np.array(oficialSolution.tours[0]) - 1);\n",
    "\n",
    "oficialSolutionEdges = [(arr[-1], arr[0])]\n",
    "for i in range(len(arr) - 1):\n",
    "    j = i + 1\n",
    "    oficialSolutionEdges.append((arr[i], arr[j]))"
   ]
  },
  {
   "cell_type": "code",
   "execution_count": null,
   "metadata": {},
   "outputs": [],
   "source": [
    "print(lista)\n",
    "print('______________________________________________________________________________')\n",
    "oficialSolutionEdges = [(i,j) if i<j else (j,i) for i,j in oficialSolutionEdges];#list comprehension\n",
    "print(oficialSolutionEdges)\n",
    "print('______________________________________________________________________________')\n",
    "intersectionEdges = set(lista) & set(oficialSolutionEdges);\n",
    "print(intersectionEdges);\n",
    "print('problemLength:' , len(lista))\n",
    "print('intersectionEdgesLength:' , len(intersectionEdges))\n",
    "print('percentEdgesInOptimum:', ((len(intersectionEdges)*100)/len(oficialSolutionEdges)))\n",
    "w_oficial = 0\n",
    "for i, j in oficialSolutionEdges:\n",
    "    w_oficial += mat[i][j]\n",
    "print(\"OficialSolution:\", w_oficial)\n",
    "print(\"OneTreeSolution:\", w)\n",
    "print('Gap of Function:', w_oficial - w)"
   ]
  },
  {
   "cell_type": "code",
   "execution_count": null,
   "metadata": {},
   "outputs": [],
   "source": [
    "a = [(0, 7), (0, 11), (0, 15), (1, 2), (1, 3), (2, 15), (3, 7), (4, 5), (5, 6), (5, 14), (6, 9), (8, 9), (8, 10), (11, 12), (12, 13), (13, 14)];\n",
    "b = [(7, 0), (0, 13), (13, 12), (12, 11), (11, 6), (6, 5), (5, 14), (14, 4), (4, 10), (10, 8), (8, 9), (9, 15), (15, 2), (2, 1), (1, 3), (3, 7)];\n",
    "c = [(i,j) if i<j else (j,i) for i,j in b];#list comprehension\n",
    "print(a);\n",
    "print(b);\n",
    "print(c);\n",
    "print(set(a) & set(c));\n",
    "#a = np.array(a);\n",
    "#print(set(a));\n",
    "#b = np.array([(7, 0), (0, 13), (13, 12), (12, 11), (11, 6), (6, 5), (5, 14), (14, 4), (4, 10), (10, 8), (8, 9), (9, 15), (15, 2), (2, 1), (1, 3), (3, 7)]);\n",
    "#print(set(a) & set(b));"
   ]
  },
  {
   "cell_type": "code",
   "execution_count": null,
   "metadata": {},
   "outputs": [],
   "source": []
  }
 ],
 "metadata": {
  "interpreter": {
   "hash": "31f2aee4e71d21fbe5cf8b01ff0e069b9275f58929596ceb00d14d90e3e16cd6"
  },
  "kernelspec": {
   "display_name": "Python 3.8.10 64-bit",
   "name": "python3"
  },
  "language_info": {
   "codemirror_mode": {
    "name": "ipython",
    "version": 3
   },
   "file_extension": ".py",
   "mimetype": "text/x-python",
   "name": "python",
   "nbconvert_exporter": "python",
   "pygments_lexer": "ipython3",
   "version": "3.8.10"
  },
  "orig_nbformat": 4
 },
 "nbformat": 4,
 "nbformat_minor": 2
}
