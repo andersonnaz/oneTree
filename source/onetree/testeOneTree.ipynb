{
 "metadata": {
  "language_info": {
   "codemirror_mode": {
    "name": "ipython",
    "version": 3
   },
   "file_extension": ".py",
   "mimetype": "text/x-python",
   "name": "python",
   "nbconvert_exporter": "python",
   "pygments_lexer": "ipython3",
   "version": "3.8.10"
  },
  "orig_nbformat": 4,
  "kernelspec": {
   "name": "python3",
   "display_name": "Python 3.8.10 64-bit"
  },
  "interpreter": {
   "hash": "31f2aee4e71d21fbe5cf8b01ff0e069b9275f58929596ceb00d14d90e3e16cd6"
  }
 },
 "nbformat": 4,
 "nbformat_minor": 2,
 "cells": [
  {
   "cell_type": "code",
   "execution_count": 4,
   "source": [
    "# Biblioteca para trabalhar com grafos\n",
    "import networkx as nx\n",
    "\n",
    "# Biblioteca para plotar os grafos\n",
    "import matplotlib.pyplot as plt\n",
    "\n",
    "from scipy.spatial.distance import pdist\n",
    "from scipy.spatial.distance import squareform\n",
    "\n",
    "import numpy as np\n",
    "import random as rd\n",
    "import tsplib95"
   ],
   "outputs": [],
   "metadata": {}
  },
  {
   "cell_type": "code",
   "execution_count": 5,
   "source": [
    "def NearestNeighbor(mat):\n",
    "    assert isinstance(mat, np.matrix), \"use np.matrix\"\n",
    "    n = len(mat)\n",
    "    used = np.zeros(n, dtype=bool)\n",
    "    used[0] = True\n",
    "    cost = 0\n",
    "    last = 0\n",
    "    path = [0]\n",
    "    for i in range(1, n):\n",
    "        minarg = -1\n",
    "        min = np.inf\n",
    "        for j in range(1, n):\n",
    "            if (not used[j] and mat[last, j] < min):\n",
    "                min = mat[last, j]\n",
    "                minarg = j\n",
    "        if minarg >= 0:\n",
    "            cost += min\n",
    "            last = minarg\n",
    "            path.append(last)\n",
    "            used[last] = True\n",
    "\n",
    "    cost += mat[last, 0]\n",
    "    return cost, path"
   ],
   "outputs": [],
   "metadata": {}
  },
  {
   "cell_type": "code",
   "execution_count": 6,
   "source": [
    "def get_distance_matrix(problem):\n",
    "    n = problem.dimension\n",
    "    plus = 0\n",
    "    if next(problem.get_nodes()) == 1:\n",
    "        plus = 1\n",
    "\n",
    "    distance_matrix = np.zeros((n, n))\n",
    "    for i in range(n):\n",
    "        for j in range(i + plus, n):\n",
    "            distance_matrix[i, j] = problem.get_weight(i + plus, j + plus)\n",
    "    \n",
    "    return distance_matrix"
   ],
   "outputs": [],
   "metadata": {}
  },
  {
   "cell_type": "code",
   "execution_count": 7,
   "source": [
    "def randomGraph(n, W=1000, H=1000):\n",
    "    coordinates = []\n",
    "    for i in range(n):\n",
    "        coordinates.append((rd.randint(0, W), rd.randint(0, H)))\n",
    "    dist_matrix = squareform(pdist(coordinates))\n",
    "    G = nx.complete_graph(n)\n",
    "    for i in range(n):\n",
    "        G.nodes[i][\"coord\"] = coordinates[i]\n",
    "        G.nodes[i][\"label\"] = i\n",
    "        for j in range(i):\n",
    "            G.edges[i,j]['weight'] = G.edges[j,i]['weight'] = dist_matrix[i][j]\n",
    "    return G"
   ],
   "outputs": [],
   "metadata": {}
  },
  {
   "cell_type": "code",
   "execution_count": 8,
   "source": [
    "def testGraph(problem):\n",
    "    coordinates = list(problem.node_coords.values())\n",
    "    dist_matrix = squareform(pdist(coordinates))\n",
    "    #dist_matrix = get_distance_matrix(problem)\n",
    "    G = nx.complete_graph(problem.dimension)\n",
    "    \n",
    "    for i in range(problem.dimension):\n",
    "        G.nodes[i][\"pos\"] = coordinates[i]\n",
    "        G.nodes[i][\"label\"] = i\n",
    "    return G, dist_matrix"
   ],
   "outputs": [],
   "metadata": {}
  },
  {
   "cell_type": "code",
   "execution_count": 9,
   "source": [
    "def oneTree(oneT, Gm1, mat, pi):\n",
    "    assert isinstance(mat, np.matrix), \"use np.matrix\"\n",
    "    n = Gm1.number_of_nodes()\n",
    "    for i in range(n):\n",
    "        for j in range(i):\n",
    "            Gm1.edges[i, j]['weight'] = Gm1.edges[j, i]['weight'] = mat[i, j] + pi[i] + pi[j]\n",
    "\n",
    "    # gerando a árvore com o restando dos nós.\n",
    "    spaningTree = nx.minimum_spanning_tree(Gm1, algorithm=\"kruskal\", weight='weight')\n",
    "    # nx.draw_networkx(spaningTree, spaningTree.nodes.data('pos'), with_labels=True, node_size=200, font_size=8)\n",
    "    # localizar as menores arestas que conectam o nó removido na matriz de distâncias\n",
    "    vet = np.zeros(n)\n",
    "    for i in range(n):\n",
    "        vet[i] = mat[n,i] + pi[i] + pi[n]\n",
    "    a, b = np.argpartition(vet, 2)[:2]\n",
    "\n",
    "    # inserindo o nó removido\n",
    "    oneT.clear_edges()\n",
    "    oneT.add_edges_from(spaningTree.edges)\n",
    "    oneT.add_edge(n, a)\n",
    "    oneT.add_edge(n, b)\n",
    "    return"
   ],
   "outputs": [],
   "metadata": {}
  },
  {
   "cell_type": "code",
   "execution_count": 10,
   "source": [
    "def w_funcPi(graph, mat, pi):\n",
    "    assert isinstance(mat, np.matrix), \"use np.matrix\"\n",
    "    cost = 0\n",
    "    for i, j in graph.edges:\n",
    "        cost += mat[i,j] + pi[i] + pi[j]\n",
    "    return cost"
   ],
   "outputs": [],
   "metadata": {}
  },
  {
   "cell_type": "code",
   "execution_count": 11,
   "source": [
    "def w_func(graph, mat):\n",
    "    assert isinstance(mat, np.matrix), \"use np.matrix\"\n",
    "    cost = 0\n",
    "    for i, j in graph.edges:\n",
    "        cost += mat[i][j]\n",
    "    return cost"
   ],
   "outputs": [],
   "metadata": {}
  },
  {
   "cell_type": "code",
   "execution_count": 12,
   "source": [
    "def degree(graph):\n",
    "    n = graph.number_of_nodes()\n",
    "    d = np.zeros(n)\n",
    "    deg = graph.degree()\n",
    "    for i in range(n):\n",
    "        d[i] = deg[i]\n",
    "    return d"
   ],
   "outputs": [],
   "metadata": {}
  },
  {
   "cell_type": "code",
   "execution_count": 13,
   "source": [
    "def all_equals(vet, x):\n",
    "    for i in vet:\n",
    "        if x != i:\n",
    "            return False\n",
    "    return True"
   ],
   "outputs": [],
   "metadata": {}
  },
  {
   "cell_type": "code",
   "execution_count": 14,
   "source": [
    "def subGrad(ub, G, mat, LAMBDA=1.61, eps=1e-4):\n",
    "    n = G.number_of_nodes()\n",
    "    # one tree\n",
    "    oneT = nx.Graph.copy(G)\n",
    "    # G menos o último vertice\n",
    "    Gm1 = nx.Graph.copy(G)\n",
    "    Gm1.remove_node(n - 1)\n",
    "    # vetor de pesos\n",
    "    pi = np.zeros(n)\n",
    "    # melhor vetor de pesos encontrado\n",
    "    bestPi = np.zeros(n)\n",
    "\n",
    "    L = 2\n",
    "    oneTree(oneT, Gm1, mat, pi)\n",
    "    maxW = w = w_funcPi(oneT, mat, pi)\n",
    "    # número de iterações\n",
    "    ite = 1\n",
    "    while (L > eps):\n",
    "        d = degree(oneT)\n",
    "        if all_equals(d, 2):\n",
    "            print(\"Ciclo Hamiltoniano encontrado.\")\n",
    "            break\n",
    "        # subgradiente\n",
    "        g = d - 2\n",
    "        # passo\n",
    "        # if t == -1:\n",
    "        t = ((ub + 2 * sum(bestPi)) - w) / (np.linalg.norm(g) ** 2)\n",
    "        while L > eps:\n",
    "            ite += 1\n",
    "            pi = pi + L * t * g\n",
    "            oneTree(oneT, Gm1, mat, pi)\n",
    "            w = w_funcPi(oneT, mat, pi)\n",
    "            if w > maxW + eps:\n",
    "                np.copyto(bestPi, pi)\n",
    "                maxW = w\n",
    "                break\n",
    "            else:\n",
    "                L /= LAMBDA\n",
    "                np.copyto(pi, bestPi)\n",
    "                w = maxW\n",
    "        print(\"%-6d UBgap:%7.2lf%% \\t|g|:%.2lf  \\tL:%.5lf\" % (ite, 100 * w / ub, np.linalg.norm(g), L))\n",
    "\n",
    "    oneTree(oneT, Gm1, mat, bestPi)\n",
    "    return bestPi, oneT, w"
   ],
   "outputs": [],
   "metadata": {}
  },
  {
   "cell_type": "code",
   "execution_count": 17,
   "source": [
    "def compareSolutions(oficialSolution, mat, oneT, w):\n",
    "    lista = list(oneT.edges)\n",
    "    arr = list(np.array(oficialSolution.tours[0]) - 1)\n",
    "\n",
    "    oficialSolutionEdges = [(arr[-1], arr[0])]\n",
    "    for i in range(len(arr) - 1):\n",
    "        j = i + 1\n",
    "        oficialSolutionEdges.append((arr[i], arr[j]))\n",
    "\n",
    "    print(\"Optional solution\", lista)\n",
    "    print('______________________________________________________________________________')\n",
    "    oficialSolutionEdges = [(i,j) if i<j else (j,i) for i,j in oficialSolutionEdges];#list comprehension\n",
    "    print(\"Optimal solution sort\", oficialSolutionEdges)\n",
    "    print('______________________________________________________________________________')\n",
    "    intersectionEdges = set(lista) & set(oficialSolutionEdges);\n",
    "    print(\"edges intersection\", intersectionEdges);\n",
    "    print('problem Length:' , len(lista))\n",
    "    print('intersection Edges Length:' , len(intersectionEdges))\n",
    "    print('percent Edges In Optimal:', ((len(intersectionEdges)*100)/len(oficialSolutionEdges)))\n",
    "    w_oficial = 0\n",
    "    for i, j in oficialSolutionEdges:\n",
    "        w_oficial += mat[i,j]\n",
    "    print(\"Oficial Solution:\", w_oficial)\n",
    "    print(\"OneTree Solution:\", w)\n",
    "    print('Gap of Function:', w_oficial - w)"
   ],
   "outputs": [],
   "metadata": {}
  },
  {
   "cell_type": "code",
   "execution_count": 18,
   "source": [
    "rd.seed(7)\n",
    "\n",
    "G = tsplib95.load('../../instances/tsp_data/ulysses16.tsp').get_graph(True)\n",
    "optimalSolution = tsplib95.load('../../instances/tsp_opt/ulysses16.opt.tour')\n",
    "\n",
    "\n",
    "# G = randomGraph(50)\n",
    "\n",
    "\n",
    "mat = nx.to_numpy_matrix(G)\n",
    "ub, path = NearestNeighbor(mat)\n",
    "\n",
    "pi, oneT, w = subGrad(ub, G, mat, LAMBDA=1.1)\n",
    "compareSolutions(optimalSolution, mat, oneT, w)\n",
    "\n",
    "nx.draw_networkx(oneT, oneT.nodes.data('coord'), with_labels=True, node_size=100, font_size=8)\n",
    "plt.show()"
   ],
   "outputs": [
    {
     "output_type": "stream",
     "name": "stdout",
     "text": [
      "22     UBgap:  48.10% \t|g|:2.83  \tL:0.29729\n",
      "23     UBgap:  55.47% \t|g|:5.83  \tL:0.29729\n",
      "24     UBgap:  56.79% \t|g|:4.00  \tL:0.29729\n",
      "26     UBgap:  56.93% \t|g|:5.10  \tL:0.27026\n",
      "27     UBgap:  58.75% \t|g|:3.74  \tL:0.27026\n",
      "29     UBgap:  58.88% \t|g|:2.83  \tL:0.24569\n",
      "30     UBgap:  58.95% \t|g|:3.16  \tL:0.24569\n",
      "31     UBgap:  62.38% \t|g|:4.00  \tL:0.24569\n",
      "32     UBgap:  63.63% \t|g|:4.24  \tL:0.24569\n",
      "35     UBgap:  63.72% \t|g|:3.74  \tL:0.20305\n",
      "36     UBgap:  65.18% \t|g|:4.69  \tL:0.20305\n",
      "40     UBgap:  65.30% \t|g|:2.45  \tL:0.15256\n",
      "42     UBgap:  65.41% \t|g|:3.46  \tL:0.13869\n",
      "43     UBgap:  66.35% \t|g|:4.00  \tL:0.13869\n",
      "47     UBgap:  66.37% \t|g|:2.45  \tL:0.10420\n",
      "48     UBgap:  67.57% \t|g|:4.24  \tL:0.10420\n",
      "58     UBgap:  67.64% \t|g|:2.45  \tL:0.04419\n",
      "60     UBgap:  67.68% \t|g|:2.45  \tL:0.04017\n",
      "61     UBgap:  68.08% \t|g|:3.16  \tL:0.04017\n",
      "64     UBgap:  68.11% \t|g|:2.83  \tL:0.03320\n",
      "65     UBgap:  68.12% \t|g|:2.00  \tL:0.03320\n",
      "72     UBgap:  68.13% \t|g|:2.45  \tL:0.01874\n",
      "73     UBgap:  68.25% \t|g|:2.83  \tL:0.01874\n",
      "74     UBgap:  68.31% \t|g|:2.83  \tL:0.01874\n",
      "78     UBgap:  68.34% \t|g|:2.00  \tL:0.01408\n",
      "79     UBgap:  68.41% \t|g|:3.16  \tL:0.01408\n",
      "80     UBgap:  68.43% \t|g|:2.45  \tL:0.01408\n",
      "82     UBgap:  68.45% \t|g|:2.45  \tL:0.01280\n",
      "83     UBgap:  68.56% \t|g|:3.16  \tL:0.01280\n",
      "97     UBgap:  68.57% \t|g|:2.83  \tL:0.00371\n",
      "98     UBgap:  68.59% \t|g|:2.00  \tL:0.00371\n",
      "105    UBgap:  68.59% \t|g|:1.41  \tL:0.00209\n",
      "107    UBgap:  68.59% \t|g|:2.45  \tL:0.00190\n",
      "110    UBgap:  68.60% \t|g|:1.41  \tL:0.00157\n",
      "111    UBgap:  68.62% \t|g|:3.16  \tL:0.00157\n",
      "133    UBgap:  68.62% \t|g|:2.00  \tL:0.00021\n",
      "134    UBgap:  68.62% \t|g|:1.41  \tL:0.00021\n",
      "135    UBgap:  68.62% \t|g|:2.00  \tL:0.00021\n",
      "136    UBgap:  68.62% \t|g|:1.41  \tL:0.00021\n",
      "137    UBgap:  68.62% \t|g|:2.83  \tL:0.00021\n",
      "145    UBgap:  68.62% \t|g|:1.41  \tL:0.00011\n",
      "146    UBgap:  68.63% \t|g|:1.41  \tL:0.00011\n",
      "147    UBgap:  68.63% \t|g|:2.00  \tL:0.00011\n",
      "148    UBgap:  68.63% \t|g|:1.41  \tL:0.00010\n",
      "Optional solution [(0, 7), (0, 11), (1, 2), (1, 3), (2, 15), (3, 7), (4, 14), (4, 10), (5, 6), (6, 9), (8, 9), (8, 10), (9, 15), (11, 12), (12, 13), (13, 14)]\n",
      "______________________________________________________________________________\n",
      "Optimal solution sort [(0, 7), (0, 13), (12, 13), (11, 12), (6, 11), (5, 6), (5, 14), (4, 14), (4, 10), (8, 10), (8, 9), (9, 15), (2, 15), (1, 2), (1, 3), (3, 7)]\n",
      "______________________________________________________________________________\n",
      "edges intersection {(0, 7), (4, 10), (1, 2), (3, 7), (12, 13), (8, 10), (9, 15), (11, 12), (8, 9), (5, 6), (4, 14), (2, 15), (1, 3)}\n",
      "problem Length: 16\n",
      "intersection Edges Length: 13\n",
      "percent Edges In Optimal: 81.25\n",
      "Oficial Solution: 6859.0\n",
      "OneTree Solution: 6854.4169256296445\n",
      "Gap of Function: 4.583074370355462\n"
     ]
    },
    {
     "output_type": "display_data",
     "data": {
      "text/plain": [
       "<Figure size 432x288 with 1 Axes>"
      ],
      "image/png": "[encoded data removed]"
     },
     "metadata": {}
    }
   ],
   "metadata": {
    "tags": []
   }
  },
  {
   "cell_type": "code",
   "execution_count": null,
   "source": [],
   "outputs": [],
   "metadata": {}
  }
 ]
}